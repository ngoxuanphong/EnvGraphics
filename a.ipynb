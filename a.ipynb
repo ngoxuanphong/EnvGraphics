{
 "cells": [
  {
   "cell_type": "code",
   "execution_count": null,
   "metadata": {},
   "outputs": [],
   "source": [
    "%cd C:\\Users\\AnnNg\\OneDrive\\Desktop\\IntGfxENV"
   ]
  },
  {
   "cell_type": "code",
   "execution_count": 1,
   "metadata": {},
   "outputs": [],
   "source": [
    "from setup import make\n",
    "from Base.TLMN._env import bot_lv0\n",
    "env = make(\"TLMN\")"
   ]
  },
  {
   "cell_type": "code",
   "execution_count": 2,
   "metadata": {},
   "outputs": [
    {
     "ename": "TypingError",
     "evalue": "Failed in nopython mode pipeline (step: nopython frontend)\nInternal error at <numba.core.typeinfer.CallConstraint object at 0x000001B7584E6D70>.\n\u001b[1m\u001b[1m\u001b[1mcan't compile get_hand_type: import of module _env failed\u001b[0m\n\u001b[0m\u001b[1mDuring: resolving callee type: type(CPUDispatcher(<function get_hand_type at 0x000001B759980CA0>))\u001b[0m\n\u001b[0m\u001b[1mDuring: typing of call at a:\\IntGfxENV\\Base/TLMN/_env.py (199)\n\u001b[0m\nEnable logging at debug level for details.\n\u001b[1m\nFile \"Base\\TLMN\\_env.py\", line 199:\u001b[0m\n\u001b[1mdef getValidActions(state):\n    <source elided>\n    else:\n\u001b[1m        hand_type = get_hand_type(cards_in_pre_hand)\n\u001b[0m        \u001b[1m^\u001b[0m\u001b[0m\n",
     "output_type": "error",
     "traceback": [
      "\u001b[1;31m---------------------------------------------------------------------------\u001b[0m",
      "\u001b[1;31mTypingError\u001b[0m                               Traceback (most recent call last)",
      "\u001b[1;32ma:\\IntGfxENV\\a.ipynb Cell 3\u001b[0m in \u001b[0;36m<cell line: 1>\u001b[1;34m()\u001b[0m\n\u001b[1;32m----> <a href='vscode-notebook-cell:/a%3A/IntGfxENV/a.ipynb#W2sZmlsZQ%3D%3D?line=0'>1</a>\u001b[0m env\u001b[39m.\u001b[39;49mrender(Agent\u001b[39m=\u001b[39;49m\u001b[39m\"\u001b[39;49m\u001b[39mhuman\u001b[39;49m\u001b[39m\"\u001b[39;49m, per_data\u001b[39m=\u001b[39;49m[\u001b[39m0\u001b[39;49m], level\u001b[39m=\u001b[39;49m\u001b[39m1\u001b[39;49m, max_temp_frame\u001b[39m=\u001b[39;49m\u001b[39m100\u001b[39;49m)\n",
      "File \u001b[1;32ma:\\IntGfxENV\\Base/TLMN/env.py:23\u001b[0m, in \u001b[0;36mrender\u001b[1;34m(Agent, per_data, level, max_temp_frame, *args)\u001b[0m\n\u001b[0;32m     20\u001b[0m list_agent, list_data \u001b[39m=\u001b[39m __env\u001b[39m.\u001b[39mload_agent(level, \u001b[39m*\u001b[39margs)\n\u001b[0;32m     22\u001b[0m \u001b[39mglobal\u001b[39;00m __render\n\u001b[1;32m---> 23\u001b[0m __render \u001b[39m=\u001b[39m __Render(Agent, per_data, list_agent, list_data, max_temp_frame)\n\u001b[0;32m     24\u001b[0m \u001b[39mreturn\u001b[39;00m __render\u001b[39m.\u001b[39mrender()\n",
      "File \u001b[1;32ma:\\IntGfxENV\\render_template.py:81\u001b[0m, in \u001b[0;36mRender.__init__\u001b[1;34m(self, Agent, Data, list_agent, list_data, max_temp_frame)\u001b[0m\n\u001b[0;32m     78\u001b[0m \u001b[39mself\u001b[39m\u001b[39m.\u001b[39mhbox \u001b[39m=\u001b[39m widgets\u001b[39m.\u001b[39mHBox([\u001b[39mself\u001b[39m\u001b[39m.\u001b[39mtake, \u001b[39mself\u001b[39m\u001b[39m.\u001b[39mprevious, \u001b[39mself\u001b[39m\u001b[39m.\u001b[39mslider, \u001b[39mself\u001b[39m\u001b[39m.\u001b[39mnext, \u001b[39mself\u001b[39m\u001b[39m.\u001b[39mexplain], layout\u001b[39m=\u001b[39mwidgets\u001b[39m.\u001b[39mLayout(width\u001b[39m=\u001b[39m\u001b[39m\"\u001b[39m\u001b[39m100\u001b[39m\u001b[39m%\u001b[39m\u001b[39m\"\u001b[39m))\n\u001b[0;32m     79\u001b[0m \u001b[39mself\u001b[39m\u001b[39m.\u001b[39mvbox \u001b[39m=\u001b[39m widgets\u001b[39m.\u001b[39mVBox([\u001b[39mself\u001b[39m\u001b[39m.\u001b[39moutput_image, \u001b[39mself\u001b[39m\u001b[39m.\u001b[39mhbox, \u001b[39mself\u001b[39m\u001b[39m.\u001b[39moutput_text], layout\u001b[39m=\u001b[39mwidgets\u001b[39m.\u001b[39mLayout(display\u001b[39m=\u001b[39m\u001b[39m\"\u001b[39m\u001b[39mflex\u001b[39m\u001b[39m\"\u001b[39m, align_items\u001b[39m=\u001b[39m\u001b[39m\"\u001b[39m\u001b[39mcenter\u001b[39m\u001b[39m\"\u001b[39m))\n\u001b[1;32m---> 81\u001b[0m \u001b[39mself\u001b[39;49m\u001b[39m.\u001b[39;49mstart()\n",
      "File \u001b[1;32ma:\\IntGfxENV\\render_template.py:93\u001b[0m, in \u001b[0;36mRender.start\u001b[1;34m(self)\u001b[0m\n\u001b[0;32m     91\u001b[0m \u001b[39mif\u001b[39;00m \u001b[39mtype\u001b[39m(\u001b[39mself\u001b[39m\u001b[39m.\u001b[39mAgent) \u001b[39m==\u001b[39m \u001b[39mstr\u001b[39m \u001b[39mand\u001b[39;00m \u001b[39mself\u001b[39m\u001b[39m.\u001b[39mAgent\u001b[39m.\u001b[39mlower() \u001b[39m==\u001b[39m \u001b[39m\"\u001b[39m\u001b[39mhuman\u001b[39m\u001b[39m\"\u001b[39m:\n\u001b[0;32m     92\u001b[0m     \u001b[39mself\u001b[39m\u001b[39m.\u001b[39msystem_mode \u001b[39m=\u001b[39m \u001b[39m\"\u001b[39m\u001b[39mplay\u001b[39m\u001b[39m\"\u001b[39m\n\u001b[1;32m---> 93\u001b[0m     \u001b[39mself\u001b[39;49m\u001b[39m.\u001b[39;49mstep()\n\u001b[0;32m     94\u001b[0m \u001b[39melse\u001b[39;00m:\n\u001b[0;32m     95\u001b[0m     action \u001b[39m=\u001b[39m \u001b[39mNone\u001b[39;00m\n",
      "File \u001b[1;32ma:\\IntGfxENV\\render_template.py:140\u001b[0m, in \u001b[0;36mRender.step\u001b[1;34m(self, action)\u001b[0m\n\u001b[0;32m    138\u001b[0m \u001b[39mself\u001b[39m\u001b[39m.\u001b[39mimages[\u001b[39mself\u001b[39m\u001b[39m.\u001b[39mmax_state_idx] \u001b[39m=\u001b[39m _render_func\u001b[39m.\u001b[39mget_state_image(state)\n\u001b[0;32m    139\u001b[0m \u001b[39mself\u001b[39m\u001b[39m.\u001b[39mslider\u001b[39m.\u001b[39mmax \u001b[39m=\u001b[39m \u001b[39mself\u001b[39m\u001b[39m.\u001b[39mmax_state_idx\n\u001b[1;32m--> 140\u001b[0m \u001b[39mself\u001b[39m\u001b[39m.\u001b[39mslider\u001b[39m.\u001b[39mvalue \u001b[39m=\u001b[39m \u001b[39mself\u001b[39m\u001b[39m.\u001b[39mslider\u001b[39m.\u001b[39mmax\n\u001b[0;32m    141\u001b[0m \u001b[39mif\u001b[39;00m \u001b[39mself\u001b[39m\u001b[39m.\u001b[39mmax_state_idx \u001b[39m==\u001b[39m \u001b[39m0\u001b[39m:\n\u001b[0;32m    142\u001b[0m     \u001b[39mself\u001b[39m\u001b[39m.\u001b[39mslider\u001b[39m.\u001b[39mmin \u001b[39m=\u001b[39m \u001b[39m0\u001b[39m\n",
      "File \u001b[1;32mc:\\Users\\ADMIN\\AppData\\Local\\Programs\\Python\\Python310\\lib\\site-packages\\traitlets\\traitlets.py:606\u001b[0m, in \u001b[0;36mTraitType.__set__\u001b[1;34m(self, obj, value)\u001b[0m\n\u001b[0;32m    604\u001b[0m     \u001b[39mraise\u001b[39;00m TraitError(\u001b[39m'\u001b[39m\u001b[39mThe \u001b[39m\u001b[39m\"\u001b[39m\u001b[39m%s\u001b[39;00m\u001b[39m\"\u001b[39m\u001b[39m trait is read-only.\u001b[39m\u001b[39m'\u001b[39m \u001b[39m%\u001b[39m \u001b[39mself\u001b[39m\u001b[39m.\u001b[39mname)\n\u001b[0;32m    605\u001b[0m \u001b[39melse\u001b[39;00m:\n\u001b[1;32m--> 606\u001b[0m     \u001b[39mself\u001b[39;49m\u001b[39m.\u001b[39;49mset(obj, value)\n",
      "File \u001b[1;32mc:\\Users\\ADMIN\\AppData\\Local\\Programs\\Python\\Python310\\lib\\site-packages\\traitlets\\traitlets.py:595\u001b[0m, in \u001b[0;36mTraitType.set\u001b[1;34m(self, obj, value)\u001b[0m\n\u001b[0;32m    591\u001b[0m     silent \u001b[39m=\u001b[39m \u001b[39mFalse\u001b[39;00m\n\u001b[0;32m    592\u001b[0m \u001b[39mif\u001b[39;00m silent \u001b[39mis\u001b[39;00m \u001b[39mnot\u001b[39;00m \u001b[39mTrue\u001b[39;00m:\n\u001b[0;32m    593\u001b[0m     \u001b[39m# we explicitly compare silent to True just in case the equality\u001b[39;00m\n\u001b[0;32m    594\u001b[0m     \u001b[39m# comparison above returns something other than True/False\u001b[39;00m\n\u001b[1;32m--> 595\u001b[0m     obj\u001b[39m.\u001b[39;49m_notify_trait(\u001b[39mself\u001b[39;49m\u001b[39m.\u001b[39;49mname, old_value, new_value)\n",
      "File \u001b[1;32mc:\\Users\\ADMIN\\AppData\\Local\\Programs\\Python\\Python310\\lib\\site-packages\\traitlets\\traitlets.py:1219\u001b[0m, in \u001b[0;36mHasTraits._notify_trait\u001b[1;34m(self, name, old_value, new_value)\u001b[0m\n\u001b[0;32m   1218\u001b[0m \u001b[39mdef\u001b[39;00m \u001b[39m_notify_trait\u001b[39m(\u001b[39mself\u001b[39m, name, old_value, new_value):\n\u001b[1;32m-> 1219\u001b[0m     \u001b[39mself\u001b[39;49m\u001b[39m.\u001b[39;49mnotify_change(Bunch(\n\u001b[0;32m   1220\u001b[0m         name\u001b[39m=\u001b[39;49mname,\n\u001b[0;32m   1221\u001b[0m         old\u001b[39m=\u001b[39;49mold_value,\n\u001b[0;32m   1222\u001b[0m         new\u001b[39m=\u001b[39;49mnew_value,\n\u001b[0;32m   1223\u001b[0m         owner\u001b[39m=\u001b[39;49m\u001b[39mself\u001b[39;49m,\n\u001b[0;32m   1224\u001b[0m         \u001b[39mtype\u001b[39;49m\u001b[39m=\u001b[39;49m\u001b[39m'\u001b[39;49m\u001b[39mchange\u001b[39;49m\u001b[39m'\u001b[39;49m,\n\u001b[0;32m   1225\u001b[0m     ))\n",
      "File \u001b[1;32mc:\\Users\\ADMIN\\AppData\\Local\\Programs\\Python\\Python310\\lib\\site-packages\\ipywidgets\\widgets\\widget.py:701\u001b[0m, in \u001b[0;36mWidget.notify_change\u001b[1;34m(self, change)\u001b[0m\n\u001b[0;32m    698\u001b[0m     \u001b[39mif\u001b[39;00m name \u001b[39min\u001b[39;00m \u001b[39mself\u001b[39m\u001b[39m.\u001b[39mkeys \u001b[39mand\u001b[39;00m \u001b[39mself\u001b[39m\u001b[39m.\u001b[39m_should_send_property(name, \u001b[39mgetattr\u001b[39m(\u001b[39mself\u001b[39m, name)):\n\u001b[0;32m    699\u001b[0m         \u001b[39m# Send new state to front-end\u001b[39;00m\n\u001b[0;32m    700\u001b[0m         \u001b[39mself\u001b[39m\u001b[39m.\u001b[39msend_state(key\u001b[39m=\u001b[39mname)\n\u001b[1;32m--> 701\u001b[0m \u001b[39msuper\u001b[39;49m()\u001b[39m.\u001b[39;49mnotify_change(change)\n",
      "File \u001b[1;32mc:\\Users\\ADMIN\\AppData\\Local\\Programs\\Python\\Python310\\lib\\site-packages\\traitlets\\traitlets.py:1229\u001b[0m, in \u001b[0;36mHasTraits.notify_change\u001b[1;34m(self, change)\u001b[0m\n\u001b[0;32m   1227\u001b[0m \u001b[39mdef\u001b[39;00m \u001b[39mnotify_change\u001b[39m(\u001b[39mself\u001b[39m, change):\n\u001b[0;32m   1228\u001b[0m     \u001b[39m\"\"\"Notify observers of a change event\"\"\"\u001b[39;00m\n\u001b[1;32m-> 1229\u001b[0m     \u001b[39mreturn\u001b[39;00m \u001b[39mself\u001b[39;49m\u001b[39m.\u001b[39;49m_notify_observers(change)\n",
      "File \u001b[1;32mc:\\Users\\ADMIN\\AppData\\Local\\Programs\\Python\\Python310\\lib\\site-packages\\traitlets\\traitlets.py:1266\u001b[0m, in \u001b[0;36mHasTraits._notify_observers\u001b[1;34m(self, event)\u001b[0m\n\u001b[0;32m   1263\u001b[0m \u001b[39melif\u001b[39;00m \u001b[39misinstance\u001b[39m(c, EventHandler) \u001b[39mand\u001b[39;00m c\u001b[39m.\u001b[39mname \u001b[39mis\u001b[39;00m \u001b[39mnot\u001b[39;00m \u001b[39mNone\u001b[39;00m:\n\u001b[0;32m   1264\u001b[0m     c \u001b[39m=\u001b[39m \u001b[39mgetattr\u001b[39m(\u001b[39mself\u001b[39m, c\u001b[39m.\u001b[39mname)\n\u001b[1;32m-> 1266\u001b[0m c(event)\n",
      "File \u001b[1;32ma:\\IntGfxENV\\render_template.py:197\u001b[0m, in \u001b[0;36mRender.handle_slider\u001b[1;34m(self, p)\u001b[0m\n\u001b[0;32m    195\u001b[0m state \u001b[39m=\u001b[39m \u001b[39mself\u001b[39m\u001b[39m.\u001b[39mhistory_state[p\u001b[39m.\u001b[39mnew]\n\u001b[0;32m    196\u001b[0m \u001b[39mif\u001b[39;00m \u001b[39mlen\u001b[39m(\u001b[39mself\u001b[39m\u001b[39m.\u001b[39mhistory_valid_actions) \u001b[39m!=\u001b[39m \u001b[39mself\u001b[39m\u001b[39m.\u001b[39mmax_state_idx \u001b[39m+\u001b[39m \u001b[39m1\u001b[39m:\n\u001b[1;32m--> 197\u001b[0m     valid_actions \u001b[39m=\u001b[39m np\u001b[39m.\u001b[39mwhere(_env\u001b[39m.\u001b[39;49mgetValidActions(state) \u001b[39m==\u001b[39m \u001b[39m1\u001b[39m)[\u001b[39m0\u001b[39m]\n\u001b[0;32m    198\u001b[0m     \u001b[39mself\u001b[39m\u001b[39m.\u001b[39mhistory_valid_actions\u001b[39m.\u001b[39mappend(valid_actions)\n\u001b[0;32m    199\u001b[0m \u001b[39melse\u001b[39;00m:\n",
      "File \u001b[1;32mc:\\Users\\ADMIN\\AppData\\Local\\Programs\\Python\\Python310\\lib\\site-packages\\numba\\core\\dispatcher.py:468\u001b[0m, in \u001b[0;36m_DispatcherBase._compile_for_args\u001b[1;34m(self, *args, **kws)\u001b[0m\n\u001b[0;32m    464\u001b[0m         msg \u001b[39m=\u001b[39m (\u001b[39mf\u001b[39m\u001b[39m\"\u001b[39m\u001b[39m{\u001b[39;00m\u001b[39mstr\u001b[39m(e)\u001b[39m.\u001b[39mrstrip()\u001b[39m}\u001b[39;00m\u001b[39m \u001b[39m\u001b[39m\\n\u001b[39;00m\u001b[39m\\n\u001b[39;00m\u001b[39mThis error may have been caused \u001b[39m\u001b[39m\"\u001b[39m\n\u001b[0;32m    465\u001b[0m                \u001b[39mf\u001b[39m\u001b[39m\"\u001b[39m\u001b[39mby the following argument(s):\u001b[39m\u001b[39m\\n\u001b[39;00m\u001b[39m{\u001b[39;00margs_str\u001b[39m}\u001b[39;00m\u001b[39m\\n\u001b[39;00m\u001b[39m\"\u001b[39m)\n\u001b[0;32m    466\u001b[0m         e\u001b[39m.\u001b[39mpatch_message(msg)\n\u001b[1;32m--> 468\u001b[0m     error_rewrite(e, \u001b[39m'\u001b[39;49m\u001b[39mtyping\u001b[39;49m\u001b[39m'\u001b[39;49m)\n\u001b[0;32m    469\u001b[0m \u001b[39mexcept\u001b[39;00m errors\u001b[39m.\u001b[39mUnsupportedError \u001b[39mas\u001b[39;00m e:\n\u001b[0;32m    470\u001b[0m     \u001b[39m# Something unsupported is present in the user code, add help info\u001b[39;00m\n\u001b[0;32m    471\u001b[0m     error_rewrite(e, \u001b[39m'\u001b[39m\u001b[39munsupported_error\u001b[39m\u001b[39m'\u001b[39m)\n",
      "File \u001b[1;32mc:\\Users\\ADMIN\\AppData\\Local\\Programs\\Python\\Python310\\lib\\site-packages\\numba\\core\\dispatcher.py:409\u001b[0m, in \u001b[0;36m_DispatcherBase._compile_for_args.<locals>.error_rewrite\u001b[1;34m(e, issue_type)\u001b[0m\n\u001b[0;32m    407\u001b[0m     \u001b[39mraise\u001b[39;00m e\n\u001b[0;32m    408\u001b[0m \u001b[39melse\u001b[39;00m:\n\u001b[1;32m--> 409\u001b[0m     \u001b[39mraise\u001b[39;00m e\u001b[39m.\u001b[39mwith_traceback(\u001b[39mNone\u001b[39;00m)\n",
      "\u001b[1;31mTypingError\u001b[0m: Failed in nopython mode pipeline (step: nopython frontend)\nInternal error at <numba.core.typeinfer.CallConstraint object at 0x000001B7584E6D70>.\n\u001b[1m\u001b[1m\u001b[1mcan't compile get_hand_type: import of module _env failed\u001b[0m\n\u001b[0m\u001b[1mDuring: resolving callee type: type(CPUDispatcher(<function get_hand_type at 0x000001B759980CA0>))\u001b[0m\n\u001b[0m\u001b[1mDuring: typing of call at a:\\IntGfxENV\\Base/TLMN/_env.py (199)\n\u001b[0m\nEnable logging at debug level for details.\n\u001b[1m\nFile \"Base\\TLMN\\_env.py\", line 199:\u001b[0m\n\u001b[1mdef getValidActions(state):\n    <source elided>\n    else:\n\u001b[1m        hand_type = get_hand_type(cards_in_pre_hand)\n\u001b[0m        \u001b[1m^\u001b[0m\u001b[0m\n"
     ]
    }
   ],
   "source": [
    "env.render(Agent=\"human\", per_data=[0], level=1, max_temp_frame=100)"
   ]
  }
 ],
 "metadata": {
  "kernelspec": {
   "display_name": ".venv",
   "language": "python",
   "name": "python3"
  },
  "language_info": {
   "codemirror_mode": {
    "name": "ipython",
    "version": 3
   },
   "file_extension": ".py",
   "mimetype": "text/x-python",
   "name": "python",
   "nbconvert_exporter": "python",
   "pygments_lexer": "ipython3",
   "version": "3.10.0"
  },
  "orig_nbformat": 4
 },
 "nbformat": 4,
 "nbformat_minor": 2
}
